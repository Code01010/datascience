{
 "cells": [
  {
   "cell_type": "markdown",
   "metadata": {},
   "source": [
    "# Predicting House Prices\n",
    "\n",
    "The purpose of this project is to build a machine learning model using linear regression to predict house prices. The dataset for this project is a collection of housing data from Ames, Iowa from 2006 to 2010. The dataset and its documentaiton can be [found here.](https://www.tandfonline.com/doi/abs/10.1080/10691898.2011.11889627)\n",
    "\n",
    "To begin, I will import the necessary files and libraries to start cleaning and building our model."
   ]
  },
  {
   "cell_type": "code",
   "execution_count": 1,
   "metadata": {},
   "outputs": [],
   "source": [
    "# importing cleaning/visualization libraries\n",
    "import pandas as pd\n",
    "import numpy as np\n",
    "import matplotlib.pyplot as plt\n",
    "\n",
    "# import machine learning libraries\n",
    "from sklearn.model_selection import KFold\n",
    "from sklearn.metrics import mean_squared_error\n",
    "from sklearn import linear_model\n",
    "\n",
    "# allowing for viewing of large file\n",
    "pd.set_option('max_columns', 180)\n",
    "pd.set_option('max_rows', 200000)\n",
    "pd.set_option('max_colwidth', 5000)"
   ]
  },
  {
   "cell_type": "code",
   "execution_count": 2,
   "metadata": {},
   "outputs": [],
   "source": [
    "# reading csv file to dataframe\n",
    "housing = pd.read_csv('AmesHousing.tsv', delimiter='\\t')"
   ]
  },
  {
   "cell_type": "markdown",
   "metadata": {},
   "source": [
    "# Creating Functions\n",
    "\n",
    "Now I will create a few basic functions for cleaning, transforming and modeling the data."
   ]
  },
  {
   "cell_type": "code",
   "execution_count": 3,
   "metadata": {},
   "outputs": [],
   "source": [
    "# def a function for cleaning the data\n",
    "def transform_features(df):\n",
    "    return df"
   ]
  },
  {
   "cell_type": "code",
   "execution_count": 4,
   "metadata": {},
   "outputs": [],
   "source": [
    "# def a function for feature selection\n",
    "def select_features(df):\n",
    "    return df[['Gr Liv Area', 'SalePrice']]"
   ]
  },
  {
   "cell_type": "code",
   "execution_count": 5,
   "metadata": {},
   "outputs": [],
   "source": [
    "# def a function for training/testing\n",
    "def train_and_test(df):\n",
    "    # splitting dataframe into train/test segments\n",
    "    train = df[0:1460]\n",
    "    test = df[1460:]\n",
    "    \n",
    "    # selecting only numeric values from train/test sets\n",
    "    numeric_train = train.select_dtypes(include=['integer','float'])\n",
    "    numeric_test = test.select_dtypes(include=['integer','float'])\n",
    "    \n",
    "    features = numeric_train.columns.drop('SalePrice')\n",
    "    lr = linear_model.LinearRegression()\n",
    "    lr.fit(train[features], train['SalePrice'])\n",
    "    predictions = lr.predict(test[features])\n",
    "    mse = mean_squared_error(test['SalePrice'], predictions)\n",
    "    rmse = np.sqrt(mse)\n",
    "    \n",
    "    return rmse"
   ]
  },
  {
   "cell_type": "markdown",
   "metadata": {},
   "source": [
    "# Feature Engineering\n",
    "\n",
    "Now I will create the internals for the feature engineering function. This function should do the following:\n",
    "\n",
    "* Remove all features with more than 5% null values.\n",
    "* For text columns, drop rows with missing values.\n",
    "* Fill remaining null values in numerical columns with most common value.\n",
    "* Convert text fields to categorical or drop them.\n",
    "* Explore any features which need to be engineered for better performance.\n",
    "\n",
    "### Drop Columns with >5% Missing Values"
   ]
  },
  {
   "cell_type": "code",
   "execution_count": 6,
   "metadata": {},
   "outputs": [
    {
     "data": {
      "text/html": [
       "<div>\n",
       "<style scoped>\n",
       "    .dataframe tbody tr th:only-of-type {\n",
       "        vertical-align: middle;\n",
       "    }\n",
       "\n",
       "    .dataframe tbody tr th {\n",
       "        vertical-align: top;\n",
       "    }\n",
       "\n",
       "    .dataframe thead th {\n",
       "        text-align: right;\n",
       "    }\n",
       "</style>\n",
       "<table border=\"1\" class=\"dataframe\">\n",
       "  <thead>\n",
       "    <tr style=\"text-align: right;\">\n",
       "      <th></th>\n",
       "      <th>Order</th>\n",
       "      <th>PID</th>\n",
       "      <th>MS SubClass</th>\n",
       "      <th>MS Zoning</th>\n",
       "      <th>Lot Frontage</th>\n",
       "      <th>Lot Area</th>\n",
       "      <th>Street</th>\n",
       "      <th>Alley</th>\n",
       "      <th>Lot Shape</th>\n",
       "      <th>Land Contour</th>\n",
       "      <th>Utilities</th>\n",
       "      <th>Lot Config</th>\n",
       "      <th>Land Slope</th>\n",
       "      <th>Neighborhood</th>\n",
       "      <th>Condition 1</th>\n",
       "      <th>Condition 2</th>\n",
       "      <th>Bldg Type</th>\n",
       "      <th>House Style</th>\n",
       "      <th>Overall Qual</th>\n",
       "      <th>Overall Cond</th>\n",
       "      <th>Year Built</th>\n",
       "      <th>Year Remod/Add</th>\n",
       "      <th>Roof Style</th>\n",
       "      <th>Roof Matl</th>\n",
       "      <th>Exterior 1st</th>\n",
       "      <th>Exterior 2nd</th>\n",
       "      <th>Mas Vnr Type</th>\n",
       "      <th>Mas Vnr Area</th>\n",
       "      <th>Exter Qual</th>\n",
       "      <th>Exter Cond</th>\n",
       "      <th>Foundation</th>\n",
       "      <th>Bsmt Qual</th>\n",
       "      <th>Bsmt Cond</th>\n",
       "      <th>Bsmt Exposure</th>\n",
       "      <th>BsmtFin Type 1</th>\n",
       "      <th>BsmtFin SF 1</th>\n",
       "      <th>BsmtFin Type 2</th>\n",
       "      <th>BsmtFin SF 2</th>\n",
       "      <th>Bsmt Unf SF</th>\n",
       "      <th>Total Bsmt SF</th>\n",
       "      <th>Heating</th>\n",
       "      <th>Heating QC</th>\n",
       "      <th>Central Air</th>\n",
       "      <th>Electrical</th>\n",
       "      <th>1st Flr SF</th>\n",
       "      <th>2nd Flr SF</th>\n",
       "      <th>Low Qual Fin SF</th>\n",
       "      <th>Gr Liv Area</th>\n",
       "      <th>Bsmt Full Bath</th>\n",
       "      <th>Bsmt Half Bath</th>\n",
       "      <th>Full Bath</th>\n",
       "      <th>Half Bath</th>\n",
       "      <th>Bedroom AbvGr</th>\n",
       "      <th>Kitchen AbvGr</th>\n",
       "      <th>Kitchen Qual</th>\n",
       "      <th>TotRms AbvGrd</th>\n",
       "      <th>Functional</th>\n",
       "      <th>Fireplaces</th>\n",
       "      <th>Fireplace Qu</th>\n",
       "      <th>Garage Type</th>\n",
       "      <th>Garage Yr Blt</th>\n",
       "      <th>Garage Finish</th>\n",
       "      <th>Garage Cars</th>\n",
       "      <th>Garage Area</th>\n",
       "      <th>Garage Qual</th>\n",
       "      <th>Garage Cond</th>\n",
       "      <th>Paved Drive</th>\n",
       "      <th>Wood Deck SF</th>\n",
       "      <th>Open Porch SF</th>\n",
       "      <th>Enclosed Porch</th>\n",
       "      <th>3Ssn Porch</th>\n",
       "      <th>Screen Porch</th>\n",
       "      <th>Pool Area</th>\n",
       "      <th>Pool QC</th>\n",
       "      <th>Fence</th>\n",
       "      <th>Misc Feature</th>\n",
       "      <th>Misc Val</th>\n",
       "      <th>Mo Sold</th>\n",
       "      <th>Yr Sold</th>\n",
       "      <th>Sale Type</th>\n",
       "      <th>Sale Condition</th>\n",
       "      <th>SalePrice</th>\n",
       "    </tr>\n",
       "  </thead>\n",
       "  <tbody>\n",
       "    <tr>\n",
       "      <th>0</th>\n",
       "      <td>1</td>\n",
       "      <td>526301100</td>\n",
       "      <td>20</td>\n",
       "      <td>RL</td>\n",
       "      <td>141.0</td>\n",
       "      <td>31770</td>\n",
       "      <td>Pave</td>\n",
       "      <td>NaN</td>\n",
       "      <td>IR1</td>\n",
       "      <td>Lvl</td>\n",
       "      <td>AllPub</td>\n",
       "      <td>Corner</td>\n",
       "      <td>Gtl</td>\n",
       "      <td>NAmes</td>\n",
       "      <td>Norm</td>\n",
       "      <td>Norm</td>\n",
       "      <td>1Fam</td>\n",
       "      <td>1Story</td>\n",
       "      <td>6</td>\n",
       "      <td>5</td>\n",
       "      <td>1960</td>\n",
       "      <td>1960</td>\n",
       "      <td>Hip</td>\n",
       "      <td>CompShg</td>\n",
       "      <td>BrkFace</td>\n",
       "      <td>Plywood</td>\n",
       "      <td>Stone</td>\n",
       "      <td>112.0</td>\n",
       "      <td>TA</td>\n",
       "      <td>TA</td>\n",
       "      <td>CBlock</td>\n",
       "      <td>TA</td>\n",
       "      <td>Gd</td>\n",
       "      <td>Gd</td>\n",
       "      <td>BLQ</td>\n",
       "      <td>639.0</td>\n",
       "      <td>Unf</td>\n",
       "      <td>0.0</td>\n",
       "      <td>441.0</td>\n",
       "      <td>1080.0</td>\n",
       "      <td>GasA</td>\n",
       "      <td>Fa</td>\n",
       "      <td>Y</td>\n",
       "      <td>SBrkr</td>\n",
       "      <td>1656</td>\n",
       "      <td>0</td>\n",
       "      <td>0</td>\n",
       "      <td>1656</td>\n",
       "      <td>1.0</td>\n",
       "      <td>0.0</td>\n",
       "      <td>1</td>\n",
       "      <td>0</td>\n",
       "      <td>3</td>\n",
       "      <td>1</td>\n",
       "      <td>TA</td>\n",
       "      <td>7</td>\n",
       "      <td>Typ</td>\n",
       "      <td>2</td>\n",
       "      <td>Gd</td>\n",
       "      <td>Attchd</td>\n",
       "      <td>1960.0</td>\n",
       "      <td>Fin</td>\n",
       "      <td>2.0</td>\n",
       "      <td>528.0</td>\n",
       "      <td>TA</td>\n",
       "      <td>TA</td>\n",
       "      <td>P</td>\n",
       "      <td>210</td>\n",
       "      <td>62</td>\n",
       "      <td>0</td>\n",
       "      <td>0</td>\n",
       "      <td>0</td>\n",
       "      <td>0</td>\n",
       "      <td>NaN</td>\n",
       "      <td>NaN</td>\n",
       "      <td>NaN</td>\n",
       "      <td>0</td>\n",
       "      <td>5</td>\n",
       "      <td>2010</td>\n",
       "      <td>WD</td>\n",
       "      <td>Normal</td>\n",
       "      <td>215000</td>\n",
       "    </tr>\n",
       "    <tr>\n",
       "      <th>1</th>\n",
       "      <td>2</td>\n",
       "      <td>526350040</td>\n",
       "      <td>20</td>\n",
       "      <td>RH</td>\n",
       "      <td>80.0</td>\n",
       "      <td>11622</td>\n",
       "      <td>Pave</td>\n",
       "      <td>NaN</td>\n",
       "      <td>Reg</td>\n",
       "      <td>Lvl</td>\n",
       "      <td>AllPub</td>\n",
       "      <td>Inside</td>\n",
       "      <td>Gtl</td>\n",
       "      <td>NAmes</td>\n",
       "      <td>Feedr</td>\n",
       "      <td>Norm</td>\n",
       "      <td>1Fam</td>\n",
       "      <td>1Story</td>\n",
       "      <td>5</td>\n",
       "      <td>6</td>\n",
       "      <td>1961</td>\n",
       "      <td>1961</td>\n",
       "      <td>Gable</td>\n",
       "      <td>CompShg</td>\n",
       "      <td>VinylSd</td>\n",
       "      <td>VinylSd</td>\n",
       "      <td>None</td>\n",
       "      <td>0.0</td>\n",
       "      <td>TA</td>\n",
       "      <td>TA</td>\n",
       "      <td>CBlock</td>\n",
       "      <td>TA</td>\n",
       "      <td>TA</td>\n",
       "      <td>No</td>\n",
       "      <td>Rec</td>\n",
       "      <td>468.0</td>\n",
       "      <td>LwQ</td>\n",
       "      <td>144.0</td>\n",
       "      <td>270.0</td>\n",
       "      <td>882.0</td>\n",
       "      <td>GasA</td>\n",
       "      <td>TA</td>\n",
       "      <td>Y</td>\n",
       "      <td>SBrkr</td>\n",
       "      <td>896</td>\n",
       "      <td>0</td>\n",
       "      <td>0</td>\n",
       "      <td>896</td>\n",
       "      <td>0.0</td>\n",
       "      <td>0.0</td>\n",
       "      <td>1</td>\n",
       "      <td>0</td>\n",
       "      <td>2</td>\n",
       "      <td>1</td>\n",
       "      <td>TA</td>\n",
       "      <td>5</td>\n",
       "      <td>Typ</td>\n",
       "      <td>0</td>\n",
       "      <td>NaN</td>\n",
       "      <td>Attchd</td>\n",
       "      <td>1961.0</td>\n",
       "      <td>Unf</td>\n",
       "      <td>1.0</td>\n",
       "      <td>730.0</td>\n",
       "      <td>TA</td>\n",
       "      <td>TA</td>\n",
       "      <td>Y</td>\n",
       "      <td>140</td>\n",
       "      <td>0</td>\n",
       "      <td>0</td>\n",
       "      <td>0</td>\n",
       "      <td>120</td>\n",
       "      <td>0</td>\n",
       "      <td>NaN</td>\n",
       "      <td>MnPrv</td>\n",
       "      <td>NaN</td>\n",
       "      <td>0</td>\n",
       "      <td>6</td>\n",
       "      <td>2010</td>\n",
       "      <td>WD</td>\n",
       "      <td>Normal</td>\n",
       "      <td>105000</td>\n",
       "    </tr>\n",
       "    <tr>\n",
       "      <th>2</th>\n",
       "      <td>3</td>\n",
       "      <td>526351010</td>\n",
       "      <td>20</td>\n",
       "      <td>RL</td>\n",
       "      <td>81.0</td>\n",
       "      <td>14267</td>\n",
       "      <td>Pave</td>\n",
       "      <td>NaN</td>\n",
       "      <td>IR1</td>\n",
       "      <td>Lvl</td>\n",
       "      <td>AllPub</td>\n",
       "      <td>Corner</td>\n",
       "      <td>Gtl</td>\n",
       "      <td>NAmes</td>\n",
       "      <td>Norm</td>\n",
       "      <td>Norm</td>\n",
       "      <td>1Fam</td>\n",
       "      <td>1Story</td>\n",
       "      <td>6</td>\n",
       "      <td>6</td>\n",
       "      <td>1958</td>\n",
       "      <td>1958</td>\n",
       "      <td>Hip</td>\n",
       "      <td>CompShg</td>\n",
       "      <td>Wd Sdng</td>\n",
       "      <td>Wd Sdng</td>\n",
       "      <td>BrkFace</td>\n",
       "      <td>108.0</td>\n",
       "      <td>TA</td>\n",
       "      <td>TA</td>\n",
       "      <td>CBlock</td>\n",
       "      <td>TA</td>\n",
       "      <td>TA</td>\n",
       "      <td>No</td>\n",
       "      <td>ALQ</td>\n",
       "      <td>923.0</td>\n",
       "      <td>Unf</td>\n",
       "      <td>0.0</td>\n",
       "      <td>406.0</td>\n",
       "      <td>1329.0</td>\n",
       "      <td>GasA</td>\n",
       "      <td>TA</td>\n",
       "      <td>Y</td>\n",
       "      <td>SBrkr</td>\n",
       "      <td>1329</td>\n",
       "      <td>0</td>\n",
       "      <td>0</td>\n",
       "      <td>1329</td>\n",
       "      <td>0.0</td>\n",
       "      <td>0.0</td>\n",
       "      <td>1</td>\n",
       "      <td>1</td>\n",
       "      <td>3</td>\n",
       "      <td>1</td>\n",
       "      <td>Gd</td>\n",
       "      <td>6</td>\n",
       "      <td>Typ</td>\n",
       "      <td>0</td>\n",
       "      <td>NaN</td>\n",
       "      <td>Attchd</td>\n",
       "      <td>1958.0</td>\n",
       "      <td>Unf</td>\n",
       "      <td>1.0</td>\n",
       "      <td>312.0</td>\n",
       "      <td>TA</td>\n",
       "      <td>TA</td>\n",
       "      <td>Y</td>\n",
       "      <td>393</td>\n",
       "      <td>36</td>\n",
       "      <td>0</td>\n",
       "      <td>0</td>\n",
       "      <td>0</td>\n",
       "      <td>0</td>\n",
       "      <td>NaN</td>\n",
       "      <td>NaN</td>\n",
       "      <td>Gar2</td>\n",
       "      <td>12500</td>\n",
       "      <td>6</td>\n",
       "      <td>2010</td>\n",
       "      <td>WD</td>\n",
       "      <td>Normal</td>\n",
       "      <td>172000</td>\n",
       "    </tr>\n",
       "    <tr>\n",
       "      <th>3</th>\n",
       "      <td>4</td>\n",
       "      <td>526353030</td>\n",
       "      <td>20</td>\n",
       "      <td>RL</td>\n",
       "      <td>93.0</td>\n",
       "      <td>11160</td>\n",
       "      <td>Pave</td>\n",
       "      <td>NaN</td>\n",
       "      <td>Reg</td>\n",
       "      <td>Lvl</td>\n",
       "      <td>AllPub</td>\n",
       "      <td>Corner</td>\n",
       "      <td>Gtl</td>\n",
       "      <td>NAmes</td>\n",
       "      <td>Norm</td>\n",
       "      <td>Norm</td>\n",
       "      <td>1Fam</td>\n",
       "      <td>1Story</td>\n",
       "      <td>7</td>\n",
       "      <td>5</td>\n",
       "      <td>1968</td>\n",
       "      <td>1968</td>\n",
       "      <td>Hip</td>\n",
       "      <td>CompShg</td>\n",
       "      <td>BrkFace</td>\n",
       "      <td>BrkFace</td>\n",
       "      <td>None</td>\n",
       "      <td>0.0</td>\n",
       "      <td>Gd</td>\n",
       "      <td>TA</td>\n",
       "      <td>CBlock</td>\n",
       "      <td>TA</td>\n",
       "      <td>TA</td>\n",
       "      <td>No</td>\n",
       "      <td>ALQ</td>\n",
       "      <td>1065.0</td>\n",
       "      <td>Unf</td>\n",
       "      <td>0.0</td>\n",
       "      <td>1045.0</td>\n",
       "      <td>2110.0</td>\n",
       "      <td>GasA</td>\n",
       "      <td>Ex</td>\n",
       "      <td>Y</td>\n",
       "      <td>SBrkr</td>\n",
       "      <td>2110</td>\n",
       "      <td>0</td>\n",
       "      <td>0</td>\n",
       "      <td>2110</td>\n",
       "      <td>1.0</td>\n",
       "      <td>0.0</td>\n",
       "      <td>2</td>\n",
       "      <td>1</td>\n",
       "      <td>3</td>\n",
       "      <td>1</td>\n",
       "      <td>Ex</td>\n",
       "      <td>8</td>\n",
       "      <td>Typ</td>\n",
       "      <td>2</td>\n",
       "      <td>TA</td>\n",
       "      <td>Attchd</td>\n",
       "      <td>1968.0</td>\n",
       "      <td>Fin</td>\n",
       "      <td>2.0</td>\n",
       "      <td>522.0</td>\n",
       "      <td>TA</td>\n",
       "      <td>TA</td>\n",
       "      <td>Y</td>\n",
       "      <td>0</td>\n",
       "      <td>0</td>\n",
       "      <td>0</td>\n",
       "      <td>0</td>\n",
       "      <td>0</td>\n",
       "      <td>0</td>\n",
       "      <td>NaN</td>\n",
       "      <td>NaN</td>\n",
       "      <td>NaN</td>\n",
       "      <td>0</td>\n",
       "      <td>4</td>\n",
       "      <td>2010</td>\n",
       "      <td>WD</td>\n",
       "      <td>Normal</td>\n",
       "      <td>244000</td>\n",
       "    </tr>\n",
       "    <tr>\n",
       "      <th>4</th>\n",
       "      <td>5</td>\n",
       "      <td>527105010</td>\n",
       "      <td>60</td>\n",
       "      <td>RL</td>\n",
       "      <td>74.0</td>\n",
       "      <td>13830</td>\n",
       "      <td>Pave</td>\n",
       "      <td>NaN</td>\n",
       "      <td>IR1</td>\n",
       "      <td>Lvl</td>\n",
       "      <td>AllPub</td>\n",
       "      <td>Inside</td>\n",
       "      <td>Gtl</td>\n",
       "      <td>Gilbert</td>\n",
       "      <td>Norm</td>\n",
       "      <td>Norm</td>\n",
       "      <td>1Fam</td>\n",
       "      <td>2Story</td>\n",
       "      <td>5</td>\n",
       "      <td>5</td>\n",
       "      <td>1997</td>\n",
       "      <td>1998</td>\n",
       "      <td>Gable</td>\n",
       "      <td>CompShg</td>\n",
       "      <td>VinylSd</td>\n",
       "      <td>VinylSd</td>\n",
       "      <td>None</td>\n",
       "      <td>0.0</td>\n",
       "      <td>TA</td>\n",
       "      <td>TA</td>\n",
       "      <td>PConc</td>\n",
       "      <td>Gd</td>\n",
       "      <td>TA</td>\n",
       "      <td>No</td>\n",
       "      <td>GLQ</td>\n",
       "      <td>791.0</td>\n",
       "      <td>Unf</td>\n",
       "      <td>0.0</td>\n",
       "      <td>137.0</td>\n",
       "      <td>928.0</td>\n",
       "      <td>GasA</td>\n",
       "      <td>Gd</td>\n",
       "      <td>Y</td>\n",
       "      <td>SBrkr</td>\n",
       "      <td>928</td>\n",
       "      <td>701</td>\n",
       "      <td>0</td>\n",
       "      <td>1629</td>\n",
       "      <td>0.0</td>\n",
       "      <td>0.0</td>\n",
       "      <td>2</td>\n",
       "      <td>1</td>\n",
       "      <td>3</td>\n",
       "      <td>1</td>\n",
       "      <td>TA</td>\n",
       "      <td>6</td>\n",
       "      <td>Typ</td>\n",
       "      <td>1</td>\n",
       "      <td>TA</td>\n",
       "      <td>Attchd</td>\n",
       "      <td>1997.0</td>\n",
       "      <td>Fin</td>\n",
       "      <td>2.0</td>\n",
       "      <td>482.0</td>\n",
       "      <td>TA</td>\n",
       "      <td>TA</td>\n",
       "      <td>Y</td>\n",
       "      <td>212</td>\n",
       "      <td>34</td>\n",
       "      <td>0</td>\n",
       "      <td>0</td>\n",
       "      <td>0</td>\n",
       "      <td>0</td>\n",
       "      <td>NaN</td>\n",
       "      <td>MnPrv</td>\n",
       "      <td>NaN</td>\n",
       "      <td>0</td>\n",
       "      <td>3</td>\n",
       "      <td>2010</td>\n",
       "      <td>WD</td>\n",
       "      <td>Normal</td>\n",
       "      <td>189900</td>\n",
       "    </tr>\n",
       "  </tbody>\n",
       "</table>\n",
       "</div>"
      ],
      "text/plain": [
       "   Order        PID  MS SubClass MS Zoning  Lot Frontage  Lot Area Street  \\\n",
       "0      1  526301100           20        RL         141.0     31770   Pave   \n",
       "1      2  526350040           20        RH          80.0     11622   Pave   \n",
       "2      3  526351010           20        RL          81.0     14267   Pave   \n",
       "3      4  526353030           20        RL          93.0     11160   Pave   \n",
       "4      5  527105010           60        RL          74.0     13830   Pave   \n",
       "\n",
       "  Alley Lot Shape Land Contour Utilities Lot Config Land Slope Neighborhood  \\\n",
       "0   NaN       IR1          Lvl    AllPub     Corner        Gtl        NAmes   \n",
       "1   NaN       Reg          Lvl    AllPub     Inside        Gtl        NAmes   \n",
       "2   NaN       IR1          Lvl    AllPub     Corner        Gtl        NAmes   \n",
       "3   NaN       Reg          Lvl    AllPub     Corner        Gtl        NAmes   \n",
       "4   NaN       IR1          Lvl    AllPub     Inside        Gtl      Gilbert   \n",
       "\n",
       "  Condition 1 Condition 2 Bldg Type House Style  Overall Qual  Overall Cond  \\\n",
       "0        Norm        Norm      1Fam      1Story             6             5   \n",
       "1       Feedr        Norm      1Fam      1Story             5             6   \n",
       "2        Norm        Norm      1Fam      1Story             6             6   \n",
       "3        Norm        Norm      1Fam      1Story             7             5   \n",
       "4        Norm        Norm      1Fam      2Story             5             5   \n",
       "\n",
       "   Year Built  Year Remod/Add Roof Style Roof Matl Exterior 1st Exterior 2nd  \\\n",
       "0        1960            1960        Hip   CompShg      BrkFace      Plywood   \n",
       "1        1961            1961      Gable   CompShg      VinylSd      VinylSd   \n",
       "2        1958            1958        Hip   CompShg      Wd Sdng      Wd Sdng   \n",
       "3        1968            1968        Hip   CompShg      BrkFace      BrkFace   \n",
       "4        1997            1998      Gable   CompShg      VinylSd      VinylSd   \n",
       "\n",
       "  Mas Vnr Type  Mas Vnr Area Exter Qual Exter Cond Foundation Bsmt Qual  \\\n",
       "0        Stone         112.0         TA         TA     CBlock        TA   \n",
       "1         None           0.0         TA         TA     CBlock        TA   \n",
       "2      BrkFace         108.0         TA         TA     CBlock        TA   \n",
       "3         None           0.0         Gd         TA     CBlock        TA   \n",
       "4         None           0.0         TA         TA      PConc        Gd   \n",
       "\n",
       "  Bsmt Cond Bsmt Exposure BsmtFin Type 1  BsmtFin SF 1 BsmtFin Type 2  \\\n",
       "0        Gd            Gd            BLQ         639.0            Unf   \n",
       "1        TA            No            Rec         468.0            LwQ   \n",
       "2        TA            No            ALQ         923.0            Unf   \n",
       "3        TA            No            ALQ        1065.0            Unf   \n",
       "4        TA            No            GLQ         791.0            Unf   \n",
       "\n",
       "   BsmtFin SF 2  Bsmt Unf SF  Total Bsmt SF Heating Heating QC Central Air  \\\n",
       "0           0.0        441.0         1080.0    GasA         Fa           Y   \n",
       "1         144.0        270.0          882.0    GasA         TA           Y   \n",
       "2           0.0        406.0         1329.0    GasA         TA           Y   \n",
       "3           0.0       1045.0         2110.0    GasA         Ex           Y   \n",
       "4           0.0        137.0          928.0    GasA         Gd           Y   \n",
       "\n",
       "  Electrical  1st Flr SF  2nd Flr SF  Low Qual Fin SF  Gr Liv Area  \\\n",
       "0      SBrkr        1656           0                0         1656   \n",
       "1      SBrkr         896           0                0          896   \n",
       "2      SBrkr        1329           0                0         1329   \n",
       "3      SBrkr        2110           0                0         2110   \n",
       "4      SBrkr         928         701                0         1629   \n",
       "\n",
       "   Bsmt Full Bath  Bsmt Half Bath  Full Bath  Half Bath  Bedroom AbvGr  \\\n",
       "0             1.0             0.0          1          0              3   \n",
       "1             0.0             0.0          1          0              2   \n",
       "2             0.0             0.0          1          1              3   \n",
       "3             1.0             0.0          2          1              3   \n",
       "4             0.0             0.0          2          1              3   \n",
       "\n",
       "   Kitchen AbvGr Kitchen Qual  TotRms AbvGrd Functional  Fireplaces  \\\n",
       "0              1           TA              7        Typ           2   \n",
       "1              1           TA              5        Typ           0   \n",
       "2              1           Gd              6        Typ           0   \n",
       "3              1           Ex              8        Typ           2   \n",
       "4              1           TA              6        Typ           1   \n",
       "\n",
       "  Fireplace Qu Garage Type  Garage Yr Blt Garage Finish  Garage Cars  \\\n",
       "0           Gd      Attchd         1960.0           Fin          2.0   \n",
       "1          NaN      Attchd         1961.0           Unf          1.0   \n",
       "2          NaN      Attchd         1958.0           Unf          1.0   \n",
       "3           TA      Attchd         1968.0           Fin          2.0   \n",
       "4           TA      Attchd         1997.0           Fin          2.0   \n",
       "\n",
       "   Garage Area Garage Qual Garage Cond Paved Drive  Wood Deck SF  \\\n",
       "0        528.0          TA          TA           P           210   \n",
       "1        730.0          TA          TA           Y           140   \n",
       "2        312.0          TA          TA           Y           393   \n",
       "3        522.0          TA          TA           Y             0   \n",
       "4        482.0          TA          TA           Y           212   \n",
       "\n",
       "   Open Porch SF  Enclosed Porch  3Ssn Porch  Screen Porch  Pool Area Pool QC  \\\n",
       "0             62               0           0             0          0     NaN   \n",
       "1              0               0           0           120          0     NaN   \n",
       "2             36               0           0             0          0     NaN   \n",
       "3              0               0           0             0          0     NaN   \n",
       "4             34               0           0             0          0     NaN   \n",
       "\n",
       "   Fence Misc Feature  Misc Val  Mo Sold  Yr Sold Sale Type Sale Condition  \\\n",
       "0    NaN          NaN         0        5     2010       WD          Normal   \n",
       "1  MnPrv          NaN         0        6     2010       WD          Normal   \n",
       "2    NaN         Gar2     12500        6     2010       WD          Normal   \n",
       "3    NaN          NaN         0        4     2010       WD          Normal   \n",
       "4  MnPrv          NaN         0        3     2010       WD          Normal   \n",
       "\n",
       "   SalePrice  \n",
       "0     215000  \n",
       "1     105000  \n",
       "2     172000  \n",
       "3     244000  \n",
       "4     189900  "
      ]
     },
     "execution_count": 6,
     "metadata": {},
     "output_type": "execute_result"
    }
   ],
   "source": [
    "# exploring original dataframe\n",
    "housing.head()"
   ]
  },
  {
   "cell_type": "code",
   "execution_count": 7,
   "metadata": {},
   "outputs": [],
   "source": [
    "# creating a df of null counts in each category\n",
    "null_counts = housing.isnull().sum()\n",
    "\n",
    "# identifying columns with more than 5% null values\n",
    "drop_na_cols = null_counts[(null_counts > len(housing)/20)].sort_values()\n",
    "\n",
    "# drop those columns from dataframe\n",
    "housing = housing.drop(drop_na_cols.index, axis=1)"
   ]
  },
  {
   "cell_type": "markdown",
   "metadata": {},
   "source": [
    "### For text columns, drop columns with missing values"
   ]
  },
  {
   "cell_type": "code",
   "execution_count": 8,
   "metadata": {},
   "outputs": [
    {
     "data": {
      "text/plain": [
       "Electrical         1\n",
       "Mas Vnr Type      23\n",
       "Bsmt Qual         80\n",
       "Bsmt Cond         80\n",
       "BsmtFin Type 1    80\n",
       "BsmtFin Type 2    81\n",
       "Bsmt Exposure     83\n",
       "dtype: int64"
      ]
     },
     "execution_count": 8,
     "metadata": {},
     "output_type": "execute_result"
    }
   ],
   "source": [
    "# identifying only text columns\n",
    "missing_text_vals = housing.select_dtypes(include=['object']).isnull().sum()\n",
    "replace_text_cols = missing_text_vals[(missing_text_vals > 0)].sort_values()\n",
    "replace_text_cols"
   ]
  },
  {
   "cell_type": "code",
   "execution_count": 9,
   "metadata": {},
   "outputs": [],
   "source": [
    "# dropping columns with missing values in text columns\n",
    "housing = housing.drop(replace_text_cols.index, axis=1)"
   ]
  },
  {
   "cell_type": "markdown",
   "metadata": {},
   "source": [
    "### Fill Remaining Null Values in Numerical Columns With Most Common Value"
   ]
  },
  {
   "cell_type": "code",
   "execution_count": 10,
   "metadata": {},
   "outputs": [
    {
     "data": {
      "text/plain": [
       "BsmtFin SF 1       1\n",
       "BsmtFin SF 2       1\n",
       "Bsmt Unf SF        1\n",
       "Total Bsmt SF      1\n",
       "Garage Cars        1\n",
       "Garage Area        1\n",
       "Bsmt Full Bath     2\n",
       "Bsmt Half Bath     2\n",
       "Mas Vnr Area      23\n",
       "dtype: int64"
      ]
     },
     "execution_count": 10,
     "metadata": {},
     "output_type": "execute_result"
    }
   ],
   "source": [
    "# identifying only numerical columns\n",
    "missing_vals = housing.select_dtypes(include=['int','float']).isnull().sum()\n",
    "replace_cols = missing_vals[(missing_vals > 0)].sort_values()\n",
    "replace_cols"
   ]
  },
  {
   "cell_type": "markdown",
   "metadata": {},
   "source": [
    "To learn more about these columns, I will consult the [documentation for the original dataset.](https://s3.amazonaws.com/dq-content/307/data_description.txt)\n",
    "\n",
    "After reviewing these columns, I can determine which would be represented best by the mean (coninuous), and which would be best represented by the mode (categorical).\n",
    "\n",
    "* BsmtFin SF 1: Finished Square Feet (Mean)\n",
    "* BsmtFin SF 2: Type 2 Finished Square Feet (Mean)\n",
    "* Bsmt Unf SF: Unfinished Basement Square Feet (Mean)\n",
    "* Total Bsmt SF: Total SF of basement area (Mean)\n",
    "* Garage Cars: Size of garage in car capacity (Mean)\n",
    "* Garage Area: Size of garage in square feet (Mean)\n",
    "* Bsmt Full Bath: Basement full bathrooms (Mean) \n",
    "* Bsmt Half Bath: Basement half bathrooms (Mean)\n",
    "* Mas Vnr Area: Masonry veneer area (Mean)\n",
    "\n",
    "For all of these columns it would make sense to replace null values with the mean."
   ]
  },
  {
   "cell_type": "code",
   "execution_count": 11,
   "metadata": {},
   "outputs": [],
   "source": [
    "## Fill missing values with mean\n",
    "housing = housing.fillna(housing.mean())"
   ]
  },
  {
   "cell_type": "markdown",
   "metadata": {},
   "source": [
    "Features to be engineered:\n",
    "These can be combined into a more useful feature:\n",
    "* Year Built         2930 non-null int64\n",
    "* Year Remod/Add     2930 non-null int64\n",
    "\n",
    "These can be combined into two more useful features:\n",
    "* Bsmt Full Bath     2930 non-null float64\n",
    "* Bsmt Half Bath     2930 non-null float64\n",
    "* Full Bath          2930 non-null int64\n",
    "* Half Bath          2930 non-null int64\n",
    "\n",
    "These are proxies for sale, and should be deleted:\n",
    "* Mo Sold            2930 non-null int64\n",
    "* Yr Sold            2930 non-null int64\n",
    "* Sale Type          2930 non-null object\n",
    "* Sale Condition     2930 non-null object"
   ]
  },
  {
   "cell_type": "code",
   "execution_count": 12,
   "metadata": {},
   "outputs": [
    {
     "data": {
      "text/plain": [
       "2180   -1\n",
       "dtype: int64"
      ]
     },
     "execution_count": 12,
     "metadata": {},
     "output_type": "execute_result"
    }
   ],
   "source": [
    "# Engineering Age of house feature\n",
    "years_sold = housing['Yr Sold'] - housing['Year Built']\n",
    "# Dropping Year Built column\n",
    "housing = housing.drop('Year Built', axis=1)\n",
    "# Checking for Negative values\n",
    "years_sold[years_sold<0]"
   ]
  },
  {
   "cell_type": "code",
   "execution_count": 13,
   "metadata": {},
   "outputs": [],
   "source": [
    "# Engineering Years Before Remodel column\n",
    "housing['years_since_remodel'] = housing['Yr Sold'] - housing['Year Remod/Add']\n",
    "# Dropping Year Remod column\n",
    "housing = housing.drop('Year Remod/Add', axis=1)"
   ]
  },
  {
   "cell_type": "code",
   "execution_count": 14,
   "metadata": {},
   "outputs": [
    {
     "data": {
      "text/plain": [
       "1702   -1\n",
       "2180   -2\n",
       "2181   -1\n",
       "Name: years_since_remodel, dtype: int64"
      ]
     },
     "execution_count": 14,
     "metadata": {},
     "output_type": "execute_result"
    }
   ],
   "source": [
    "# verifying that new feature contains positive values\n",
    "years_since_remod = housing['years_since_remodel']\n",
    "years_since_remod[years_since_remod < 0]"
   ]
  },
  {
   "cell_type": "code",
   "execution_count": 15,
   "metadata": {},
   "outputs": [],
   "source": [
    "# Creating new columns\n",
    "housing['Years Before Sale'] = years_sold\n",
    "housing['Years Since Remod'] = years_since_remod\n",
    "\n",
    "# Drop rows with negative values\n",
    "housing = housing.drop([2180, 1702, 2181], axis=0)"
   ]
  },
  {
   "cell_type": "code",
   "execution_count": 16,
   "metadata": {},
   "outputs": [],
   "source": [
    "# Combining bathroom features\n",
    "housing['Bath'] = housing['Full Bath'] + (housing['Half Bath']*0.5)\n",
    "housing['Bsmt Bath'] = housing['Bsmt Full Bath'] + (housing['Bsmt Half Bath']*0.5)\n",
    "# Dropping old bathroom features\n",
    "housing = housing.drop(['Full Bath','Half Bath','Bsmt Full Bath','Bsmt Half Bath'], axis=1)"
   ]
  },
  {
   "cell_type": "code",
   "execution_count": 17,
   "metadata": {},
   "outputs": [],
   "source": [
    "# Dropping columns which are proxy for sale\n",
    "housing = housing.drop(['Mo Sold','Yr Sold','Sale Type','Sale Condition'], axis=1)"
   ]
  },
  {
   "cell_type": "code",
   "execution_count": 18,
   "metadata": {},
   "outputs": [],
   "source": [
    "# Dropping columns which aren't useful for our model\n",
    "housing = housing.drop(['PID','Order'], axis=1)"
   ]
  },
  {
   "cell_type": "markdown",
   "metadata": {},
   "source": [
    "Now I will take the existing code and add it back into my `'transform_features'` function for future efficiency."
   ]
  },
  {
   "cell_type": "code",
   "execution_count": 19,
   "metadata": {},
   "outputs": [],
   "source": [
    "# def a function for cleaning the data\n",
    "def transform_features(df):\n",
    "    # creating a df of null counts in each category\n",
    "    null_counts = df.isnull().sum()\n",
    "    # identifying columns with more than 5% null values\n",
    "    drop_na_cols = null_counts[(null_counts > len(df)/20)].sort_values()\n",
    "    # drop those columns from dataframe\n",
    "    df.drop(drop_na_cols.index, axis=1, inplace=True)\n",
    "    \n",
    "    # identifying only text columns\n",
    "    missing_text_vals = df.select_dtypes(include=['object']).isnull().sum()\n",
    "    replace_text_cols = missing_text_vals[(missing_text_vals > 0)].sort_values()\n",
    "    # dropping columns with missing values in text columns\n",
    "    df.drop(replace_text_cols.index, axis=1, inplace=True)\n",
    "    \n",
    "    # identifying only numerical columns\n",
    "    missing_vals = df.select_dtypes(include=['int','float']).isnull().sum()\n",
    "    replace_cols = missing_vals[(missing_vals > 0)].sort_values()\n",
    "    ## Fill missing values with mean\n",
    "    df.fillna(df.mean(), inplace=True)\n",
    "    \n",
    "    # Engineering Age of house feature\n",
    "    years_sold = df['Yr Sold'] - df['Year Built']\n",
    "    # Dropping Year Built column\n",
    "    df.drop('Year Built', axis=1, inplace=True)\n",
    "    # Engineering Years Before Remodel column\n",
    "    df['years_since_remodel'] = df['Yr Sold'] - df['Year Remod/Add']\n",
    "    # Dropping Year Remod column\n",
    "    df.drop('Year Remod/Add', axis=1, inplace=True)\n",
    "    # verifying that new feature contains positive values\n",
    "    years_since_remod = df['years_since_remodel']\n",
    "    # Creating new columns\n",
    "    df['Years Before Sale'] = years_sold\n",
    "    df['Years Since Remod'] = years_since_remod\n",
    "    # Drop rows with negative values\n",
    "    df.drop([2180, 1702, 2181], axis=0, inplace=True)\n",
    "    # Combining bathroom features\n",
    "    df['Bath'] = df['Full Bath'] + (df['Half Bath']*0.5)\n",
    "    df['Bsmt Bath'] = df['Bsmt Full Bath'] + (df['Bsmt Half Bath']*0.5)\n",
    "    # Dropping old bathroom features\n",
    "    df.drop(['Full Bath','Half Bath','Bsmt Full Bath','Bsmt Half Bath'], axis=1, inplace=True)\n",
    "    # Dropping columns which are proxy for sale\n",
    "    df.drop(['Mo Sold','Yr Sold','Sale Type','Sale Condition'], axis=1, inplace=True)\n",
    "    # Dropping columns which aren't useful for our model\n",
    "    df.drop(['PID','Order'], axis=1, inplace=True)\n",
    "    \n",
    "    return df"
   ]
  },
  {
   "cell_type": "markdown",
   "metadata": {},
   "source": [
    "And I will run these functions with the current data to find an rmse prior to feature selection."
   ]
  },
  {
   "cell_type": "code",
   "execution_count": 20,
   "metadata": {},
   "outputs": [
    {
     "data": {
      "text/plain": [
       "70888.75727098074"
      ]
     },
     "execution_count": 20,
     "metadata": {},
     "output_type": "execute_result"
    }
   ],
   "source": [
    "# Reading in original data into new df\n",
    "data = pd.read_csv('AmesHousing.tsv', delimiter='\\t')\n",
    "# Transforming features\n",
    "transform_features(data)\n",
    "# Running regression model\n",
    "train_and_test(data)"
   ]
  },
  {
   "cell_type": "markdown",
   "metadata": {},
   "source": [
    "# Feature Selection\n",
    "\n",
    "Now I will sort through the remaining features to see which features are highly correlated with `'SalePrice'` in an attempt to narrow down the dataset and make computation more efficient."
   ]
  },
  {
   "cell_type": "code",
   "execution_count": 21,
   "metadata": {},
   "outputs": [
    {
     "data": {
      "text/plain": [
       "SalePrice              1.000000\n",
       "Overall Qual           0.801206\n",
       "Gr Liv Area            0.717596\n",
       "Garage Cars            0.648411\n",
       "Total Bsmt SF          0.643601\n",
       "Garage Area            0.641675\n",
       "1st Flr SF             0.635185\n",
       "Bath                   0.581357\n",
       "Years Before Sale      0.558979\n",
       "Years Since Remod      0.534985\n",
       "years_since_remodel    0.534985\n",
       "Mas Vnr Area           0.510611\n",
       "TotRms AbvGrd          0.498574\n",
       "Fireplaces             0.474831\n",
       "BsmtFin SF 1           0.438928\n",
       "Wood Deck SF           0.328183\n",
       "Open Porch SF          0.316262\n",
       "Bsmt Bath              0.270144\n",
       "2nd Flr SF             0.269601\n",
       "Lot Area               0.267520\n",
       "Bsmt Unf SF            0.182248\n",
       "Bedroom AbvGr          0.143916\n",
       "Enclosed Porch         0.128685\n",
       "Kitchen AbvGr          0.119760\n",
       "Screen Porch           0.112280\n",
       "Overall Cond           0.101540\n",
       "MS SubClass            0.085128\n",
       "Pool Area              0.068438\n",
       "Low Qual Fin SF        0.037629\n",
       "3Ssn Porch             0.032268\n",
       "Misc Val               0.019273\n",
       "BsmtFin SF 2           0.006000\n",
       "Name: SalePrice, dtype: float64"
      ]
     },
     "execution_count": 21,
     "metadata": {},
     "output_type": "execute_result"
    }
   ],
   "source": [
    "# Selecting only numerical columns\n",
    "data_num = data.select_dtypes(include=['int','float'])\n",
    "# Checking for correlation\n",
    "data_corr_coef = data_num.corr()['SalePrice'].abs().sort_values(ascending=False)\n",
    "data_corr_coef"
   ]
  },
  {
   "cell_type": "code",
   "execution_count": 22,
   "metadata": {},
   "outputs": [],
   "source": [
    "# Keeping only columns with correlation coefficient larger than 0.4\n",
    "data.drop(data_corr_coef[data_corr_coef < 0.4].index, axis=1, inplace=True)"
   ]
  },
  {
   "cell_type": "markdown",
   "metadata": {},
   "source": [
    "Now I want to deal with categorical features that remain in the dataset. To do so, I will:\n",
    "* Create a list of categorical column names\n",
    "* Convert numerical features that should be categorical\n",
    "* Drop categorical columns with more than 10 unique values\n",
    "* Drop categorical columns with unique values under 2 and an very skewed distribution\n",
    "* Create dummies for remaining categorical columns"
   ]
  },
  {
   "cell_type": "markdown",
   "metadata": {},
   "source": [
    "### List of categorical features\n",
    "\n",
    "Categorical string columns\n",
    "* MS Zoning\n",
    "* Street\n",
    "* Lot Shape\n",
    "* Land Contour\n",
    "* Utilities\n",
    "* Lot Config\n",
    "* Land Slope\n",
    "* Neighborhood\n",
    "* Condition 1\n",
    "* Condition 2\n",
    "* Bldg Type\n",
    "* House Style\n",
    "* Roof Style\n",
    "* Roof Matl\n",
    "* Exterior 1st\n",
    "* Exterior 2nd\n",
    "* Foundation\n",
    "* Heating\n",
    "* Central Air\n",
    "* Functional\n",
    "* Paved Drive\n",
    "\n",
    "Numerical features to be changed to `'category'` type:\n",
    "* MS SubClass\n",
    "* Exter Qual\n",
    "* Exter Cond\n",
    "* Heating QC\n",
    "* Kitchen Qual"
   ]
  },
  {
   "cell_type": "code",
   "execution_count": 23,
   "metadata": {},
   "outputs": [],
   "source": [
    "# Creating list of categorical features\n",
    "cat_features = ['Street', 'Lot Shape', 'Land Contour', 'Utilities',\n",
    "                'Lot Config', 'Land Slope', 'Neighborhood',\n",
    "                'Condition 1', 'Condition 2', 'Bldg Type',\n",
    "                'House Style', 'Roof Style','Roof Matl',\n",
    "                'Exterior 1st','Exterior 2nd','Foundation',\n",
    "                'Heating', 'Central Air', 'Functional', 'Paved Drive',\n",
    "                'MS SubClass', 'Exter Qual', 'Exter Cond', 'Heating QC',\n",
    "                'Kitchen Qual'\n",
    "               ]"
   ]
  },
  {
   "cell_type": "code",
   "execution_count": 24,
   "metadata": {},
   "outputs": [],
   "source": [
    "# Creating list of cat features left in dataset\n",
    "transform_cat_features = []\n",
    "for col in cat_features:\n",
    "    if col in data.columns:\n",
    "        transform_cat_features.append(col)\n",
    "        \n",
    "# Number of unique values in each cat column\n",
    "unique_cat_vals = data[transform_cat_features].apply(lambda col: len(col.value_counts())).sort_values()\n",
    "# Removing columns with more than 10 unique values\n",
    "nonuniq_cols = unique_cat_vals[unique_cat_vals > 10].index\n",
    "data.drop(nonuniq_cols, axis=1, inplace=True)"
   ]
  },
  {
   "cell_type": "code",
   "execution_count": 25,
   "metadata": {},
   "outputs": [
    {
     "data": {
      "text/plain": [
       "Index(['Street', 'Central Air', 'Utilities', 'Land Slope', 'Paved Drive',\n",
       "       'Lot Shape', 'Land Contour', 'Exter Qual'],\n",
       "      dtype='object')"
      ]
     },
     "execution_count": 25,
     "metadata": {},
     "output_type": "execute_result"
    }
   ],
   "source": [
    "# Listing remaining cat columns for skewed data\n",
    "remaining_cat_cols = []\n",
    "for col in cat_features:\n",
    "    if col in data.columns:\n",
    "        remaining_cat_cols.append(col)\n",
    "        \n",
    "# Exploring remaining cat columns with less than 5 unique values\n",
    "cat_val_counts = data[remaining_cat_cols].apply(lambda col: len(col.value_counts())).sort_values()\n",
    "skewed_cols = cat_val_counts[cat_val_counts < 5].index\n",
    "skewed_cols"
   ]
  },
  {
   "cell_type": "code",
   "execution_count": 26,
   "metadata": {},
   "outputs": [
    {
     "data": {
      "text/plain": [
       "Pave    2915\n",
       "Grvl      12\n",
       "Name: Street, dtype: int64"
      ]
     },
     "execution_count": 26,
     "metadata": {},
     "output_type": "execute_result"
    }
   ],
   "source": [
    "data['Street'].value_counts()"
   ]
  },
  {
   "cell_type": "code",
   "execution_count": 27,
   "metadata": {},
   "outputs": [
    {
     "data": {
      "text/plain": [
       "Y    2731\n",
       "N     196\n",
       "Name: Central Air, dtype: int64"
      ]
     },
     "execution_count": 27,
     "metadata": {},
     "output_type": "execute_result"
    }
   ],
   "source": [
    "data['Central Air'].value_counts()"
   ]
  },
  {
   "cell_type": "code",
   "execution_count": 28,
   "metadata": {},
   "outputs": [
    {
     "data": {
      "text/plain": [
       "AllPub    2924\n",
       "NoSewr       2\n",
       "NoSeWa       1\n",
       "Name: Utilities, dtype: int64"
      ]
     },
     "execution_count": 28,
     "metadata": {},
     "output_type": "execute_result"
    }
   ],
   "source": [
    "data['Utilities'].value_counts()"
   ]
  },
  {
   "cell_type": "code",
   "execution_count": 29,
   "metadata": {},
   "outputs": [
    {
     "data": {
      "text/plain": [
       "Gtl    2786\n",
       "Mod     125\n",
       "Sev      16\n",
       "Name: Land Slope, dtype: int64"
      ]
     },
     "execution_count": 29,
     "metadata": {},
     "output_type": "execute_result"
    }
   ],
   "source": [
    "data['Land Slope'].value_counts()"
   ]
  },
  {
   "cell_type": "code",
   "execution_count": 30,
   "metadata": {},
   "outputs": [
    {
     "data": {
      "text/plain": [
       "Y    2649\n",
       "N     216\n",
       "P      62\n",
       "Name: Paved Drive, dtype: int64"
      ]
     },
     "execution_count": 30,
     "metadata": {},
     "output_type": "execute_result"
    }
   ],
   "source": [
    "data['Paved Drive'].value_counts()"
   ]
  },
  {
   "cell_type": "code",
   "execution_count": 31,
   "metadata": {},
   "outputs": [
    {
     "data": {
      "text/plain": [
       "Reg    1859\n",
       "IR1     976\n",
       "IR2      76\n",
       "IR3      16\n",
       "Name: Lot Shape, dtype: int64"
      ]
     },
     "execution_count": 31,
     "metadata": {},
     "output_type": "execute_result"
    }
   ],
   "source": [
    "data['Lot Shape'].value_counts()"
   ]
  },
  {
   "cell_type": "code",
   "execution_count": 32,
   "metadata": {},
   "outputs": [
    {
     "data": {
      "text/plain": [
       "Lvl    2632\n",
       "HLS     120\n",
       "Bnk     115\n",
       "Low      60\n",
       "Name: Land Contour, dtype: int64"
      ]
     },
     "execution_count": 32,
     "metadata": {},
     "output_type": "execute_result"
    }
   ],
   "source": [
    "data['Land Contour'].value_counts()"
   ]
  },
  {
   "cell_type": "code",
   "execution_count": 33,
   "metadata": {},
   "outputs": [
    {
     "data": {
      "text/plain": [
       "TA    1799\n",
       "Gd     988\n",
       "Ex     105\n",
       "Fa      35\n",
       "Name: Exter Qual, dtype: int64"
      ]
     },
     "execution_count": 33,
     "metadata": {},
     "output_type": "execute_result"
    }
   ],
   "source": [
    "data['Exter Qual'].value_counts()"
   ]
  },
  {
   "cell_type": "markdown",
   "metadata": {},
   "source": [
    "After viewing the value counts for these categories, it seems that `'Street'` and `'Utilities'` are highly skewed and should be dropped to prevent the algorithm from being skewed."
   ]
  },
  {
   "cell_type": "code",
   "execution_count": 34,
   "metadata": {},
   "outputs": [],
   "source": [
    "# dropping skewed columns\n",
    "data.drop(['Street', 'Utilities'], axis=1, inplace=True)"
   ]
  },
  {
   "cell_type": "code",
   "execution_count": 35,
   "metadata": {},
   "outputs": [],
   "source": [
    "# converting all cat columns that remain to categorical\n",
    "# Creating list of cat features left in dataset\n",
    "transform_cat_features = data.select_dtypes(include=['object'])\n",
    "\n",
    "for col in transform_cat_features:\n",
    "    data[col] = data[col].astype('category', inplace=True)"
   ]
  },
  {
   "cell_type": "code",
   "execution_count": 36,
   "metadata": {},
   "outputs": [],
   "source": [
    "# creating drop list of category features\n",
    "cat_cols = data.select_dtypes(include=['category'])\n",
    "\n",
    "# creating df of dummy categories\n",
    "dummies = pd.get_dummies(data.select_dtypes(include=['category']))\n",
    "\n",
    "# Create dummies and add back to dataframe\n",
    "data_final = pd.concat([\n",
    "    data, dummies], axis=1)\n",
    "\n",
    "# Drop original dummy categories\n",
    "data_final.drop(cat_cols, axis=1, inplace=True)"
   ]
  },
  {
   "cell_type": "markdown",
   "metadata": {},
   "source": [
    "Now, I will take this feature selection code and update the `'select_features'` function."
   ]
  },
  {
   "cell_type": "code",
   "execution_count": 37,
   "metadata": {},
   "outputs": [],
   "source": [
    "# def a function for feature selection\n",
    "def select_features(df):\n",
    "    ## Keeping correlated numerical features\n",
    "    # Selecting only numerical columns\n",
    "    df_num = df.select_dtypes(include=['int','float'])\n",
    "    # Checking for correlation\n",
    "    df_corr_coef = df_num.corr()['SalePrice'].abs().sort_values(ascending=False)\n",
    "    df_corr_coef\n",
    "    # Keeping only columns with correlation coefficient larger than 0.4\n",
    "    df.drop(df_corr_coef[df_corr_coef < 0.4].index, axis=1, inplace=True)\n",
    "    \n",
    "    # Creating list of categorical features\n",
    "    cat_features = ['Street', 'Lot Shape', 'Land Contour', 'Utilities',\n",
    "                    'Lot Config', 'Land Slope', 'Neighborhood',\n",
    "                    'Condition 1', 'Condition 2', 'Bldg Type',\n",
    "                    'House Style', 'Roof Style','Roof Matl',\n",
    "                    'Exterior 1st','Exterior 2nd','Foundation',\n",
    "                    'Heating', 'Central Air', 'Functional', 'Paved Drive',\n",
    "                    'MS SubClass', 'Exter Qual', 'Exter Cond', 'Heating QC',\n",
    "                    'Kitchen Qual'\n",
    "                   ]\n",
    "    # Creating list of cat features left in dfset\n",
    "    transform_cat_features = []\n",
    "    for col in cat_features:\n",
    "        if col in df.columns:\n",
    "            transform_cat_features.append(col)\n",
    "    \n",
    "    ## Dropping cat features with too many unique values\n",
    "    # Number of unique values in each cat column\n",
    "    unique_cat_vals = df[transform_cat_features].apply(lambda col: len(col.value_counts())).sort_values()\n",
    "    # Removing columns with more than 10 unique values\n",
    "    nonuniq_cols = unique_cat_vals[unique_cat_vals > 10].index\n",
    "    df.drop(nonuniq_cols, axis=1, inplace=True)\n",
    "    \n",
    "    ## Dropping cat features with skewed values\n",
    "    # dropping skewed columns\n",
    "    df.drop(['Street', 'Utilities'], axis=1, inplace=True)\n",
    "    \n",
    "    # converting all cat columns that remain to categorical\n",
    "    # Creating list of cat features left in dfset\n",
    "    transform_cat_features = df.select_dtypes(include=['object'])\n",
    "    # Converting these features to category type\n",
    "    for col in transform_cat_features:\n",
    "        df[col] = df[col].astype('category', inplace=True)\n",
    "    \n",
    "    ## Get dummies for categorical features and drop them\n",
    "    # creating drop list of category features\n",
    "    cat_cols = df.select_dtypes(include=['category'])\n",
    "    # creating df of dummy categories\n",
    "    dummies = pd.get_dummies(df.select_dtypes(include=['category']))\n",
    "    # Create dummies and add back to dfframe\n",
    "    df_final = pd.concat([df, dummies], axis=1)\n",
    "    # Drop original dummy categories\n",
    "    df_final.drop(cat_cols, axis=1, inplace=True)\n",
    "\n",
    "    return df_final"
   ]
  },
  {
   "cell_type": "code",
   "execution_count": 38,
   "metadata": {},
   "outputs": [
    {
     "data": {
      "text/plain": [
       "33297.34697167901"
      ]
     },
     "execution_count": 38,
     "metadata": {},
     "output_type": "execute_result"
    }
   ],
   "source": [
    "# Reading in original data into new df\n",
    "data = pd.read_csv('AmesHousing.tsv', delimiter='\\t')\n",
    "# Transforming features\n",
    "data_transformed = transform_features(data)\n",
    "# Selecting features\n",
    "data_final = select_features(data_transformed)\n",
    "# Running regression model\n",
    "train_and_test(data_final)"
   ]
  },
  {
   "cell_type": "markdown",
   "metadata": {},
   "source": [
    "After feature selection, the RMSE has dropped considerably to $33,297"
   ]
  },
  {
   "cell_type": "markdown",
   "metadata": {},
   "source": [
    "# Updating Model for K-Fold and Cross Validation\n",
    "\n",
    "Now I will update the ML model to incorporate a new parameter which directs it to choose between holdout validation, simple cross validation, and k-fold cross validation."
   ]
  },
  {
   "cell_type": "code",
   "execution_count": 48,
   "metadata": {},
   "outputs": [],
   "source": [
    "# def a function for training/testing\n",
    "def train_and_test(df, k=0):\n",
    "    # splitting dataframe from target column\n",
    "    numeric_df = df.select_dtypes(include=['integer', 'float'])\n",
    "    features = numeric_df.columns.drop('SalePrice')\n",
    "    lr=linear_model.LinearRegression()\n",
    "    \n",
    "    # holdout validation\n",
    "    if k == 0:\n",
    "        # splitting dataframe into train/test segments\n",
    "        train = df[0:1460]\n",
    "        test = df[1460:]\n",
    "    \n",
    "        lr.fit(train[features], train['SalePrice'])\n",
    "        predictions = lr.predict(test[features])\n",
    "        mse = mean_squared_error(test['SalePrice'], predictions)\n",
    "        rmse = np.sqrt(mse) \n",
    "        return rmse\n",
    "    \n",
    "    # simple cross validation\n",
    "    if k == 1:\n",
    "        # Randomizing all rows from df\n",
    "        shuffled_df = df.sample(frac=1, )\n",
    "        # splitting dataframe into train/test segments\n",
    "        train = df[0:1460]\n",
    "        test = df[1460:]\n",
    "        \n",
    "        # training data\n",
    "        lr.fit(train[features], train['SalePrice'])\n",
    "        predictions_one = lr.predict(test[features])\n",
    "        mse_one = mean_squared_error(test['SalePrice'], predictions_one)\n",
    "        rmse_one = np.sqrt(mse_one)\n",
    "        \n",
    "        # test data\n",
    "        lr.fit(test[features], test['SalePrice'])\n",
    "        predictions_two = lr.predict(train[features])\n",
    "        mse_two = mean_squared_error(train['SalePrice'], predictions_two)\n",
    "        rmse_two = np.sqrt(mse_two)\n",
    "        \n",
    "        # averaging rmse\n",
    "        avg_rmse = np.mean([rmse_one, rmse_two])\n",
    "        print(rmse_one, rmse_two)\n",
    "        return avg_rmse\n",
    "    \n",
    "    # K-fold validation\n",
    "    else:\n",
    "        # building K-folds\n",
    "        kf = KFold(n_splits=k, shuffle=True)\n",
    "        rmse_values = []\n",
    "        for train_index, test_index, in kf.split(df):\n",
    "            # creating train/test set for fold\n",
    "            train = df.iloc[train_index]\n",
    "            test = df.iloc[test_index]\n",
    "            # fitting and predicting\n",
    "            lr.fit(train[features], train['SalePrice'])\n",
    "            predictions = lr.predict(test[features])\n",
    "            mse = mean_squared_error(test['SalePrice'], predictions)\n",
    "            rmse = np.sqrt(mse)\n",
    "            rmse_values.append(rmse)\n",
    "        # Averaging rmse values\n",
    "        avg_rmse = np.mean(rmse_values)\n",
    "        print(avg_rmse)\n",
    "        return avg_rmse"
   ]
  },
  {
   "cell_type": "markdown",
   "metadata": {},
   "source": [
    "# Hyperparameter tuning\n",
    "\n",
    "Finally, I will run the model several times with different k-values to find the lowest rmse and best fit.\n",
    "\n",
    "## Holdout Testing"
   ]
  },
  {
   "cell_type": "code",
   "execution_count": 49,
   "metadata": {},
   "outputs": [
    {
     "data": {
      "text/plain": [
       "33297.34697167901"
      ]
     },
     "execution_count": 49,
     "metadata": {},
     "output_type": "execute_result"
    }
   ],
   "source": [
    "# Holdout testing\n",
    "# Reading in original data into new df\n",
    "data = pd.read_csv('AmesHousing.tsv', delimiter='\\t')\n",
    "# Transforming features\n",
    "data_transformed = transform_features(data)\n",
    "# Selecting features\n",
    "data_final = select_features(data_transformed)\n",
    "# Running regression model\n",
    "train_and_test(data_final, k=0)"
   ]
  },
  {
   "cell_type": "markdown",
   "metadata": {},
   "source": [
    "## Cross Validation Testing"
   ]
  },
  {
   "cell_type": "code",
   "execution_count": 50,
   "metadata": {},
   "outputs": [
    {
     "name": "stdout",
     "output_type": "stream",
     "text": [
      "33297.34697167901 27135.94980576917\n"
     ]
    },
    {
     "data": {
      "text/plain": [
       "30216.64838872409"
      ]
     },
     "execution_count": 50,
     "metadata": {},
     "output_type": "execute_result"
    }
   ],
   "source": [
    "# Simple cross validation\n",
    "# Reading in original data into new df\n",
    "data = pd.read_csv('AmesHousing.tsv', delimiter='\\t')\n",
    "# Transforming features\n",
    "data_transformed = transform_features(data)\n",
    "# Selecting features\n",
    "data_final = select_features(data_transformed)\n",
    "# Running regression model\n",
    "train_and_test(data_final, k=1)"
   ]
  },
  {
   "cell_type": "markdown",
   "metadata": {},
   "source": [
    "### K-Fold Testing\n",
    "\n",
    "Finally, I will iterate through various K-Fold testing structures, with parameters from 2-100"
   ]
  },
  {
   "cell_type": "code",
   "execution_count": 51,
   "metadata": {},
   "outputs": [
    {
     "name": "stdout",
     "output_type": "stream",
     "text": [
      "30191.04657288207\n",
      "29249.813491538225\n",
      "29118.490442732815\n",
      "1252279235.8764966\n",
      "170729244.7830841\n",
      "28583.0146041271\n",
      "28729.95391732712\n",
      "28700.884523504574\n",
      "28282.52850884921\n",
      "3808995.311976761\n",
      "28382.13907635344\n",
      "28376.787005710616\n",
      "25080253.487318065\n",
      "18089772.662302945\n",
      "28042.81595897129\n",
      "142848177.63732794\n",
      "22512575.468647216\n",
      "14727403.958816845\n",
      "27915.300423656176\n",
      "28014.120429004677\n",
      "27801.648178092775\n",
      "27757.00207917983\n",
      "5086411.342394413\n",
      "16153582.69100317\n",
      "27832.57755481281\n",
      "14500677.596383484\n",
      "27637.28690366654\n",
      "122237991.60079417\n",
      "116941410.13315894\n",
      "2072216.410895603\n",
      "1850097.1089262904\n",
      "62792018.29058874\n",
      "27462.934000524696\n",
      "53981046.06981623\n",
      "9482063.750091715\n",
      "27207.288800166083\n",
      "27487.064651654786\n",
      "5664495.685889551\n",
      "27462.05430467067\n",
      "53019609.07295413\n",
      "27223.955488489315\n",
      "9060564.70452755\n",
      "11813965.612461569\n",
      "27293.049668406133\n",
      "27148.242717267993\n",
      "27463.893553856346\n",
      "27127.28845947485\n",
      "26914.51865119825\n",
      "27274.69843981179\n",
      "26920.737003486945\n",
      "214535.5061708254\n",
      "26734.70454154348\n",
      "26891.942657944706\n",
      "26899.15784640637\n",
      "396167.6766417393\n",
      "27010.602983504814\n",
      "2537144.600435394\n",
      "26888.80714754324\n",
      "1160822.0443533217\n",
      "26673.38776789745\n",
      "2308067.156695797\n",
      "296043298.9906801\n",
      "26699.854782501538\n",
      "696574307.685007\n",
      "29598915.943950687\n",
      "28143174.424346685\n",
      "26890.00376780649\n",
      "6739615.5475340625\n",
      "26669181.887926865\n",
      "15153011.981185734\n",
      "341138366.11688447\n",
      "49068792.858624175\n",
      "26610.060863508552\n",
      "4469504.623609033\n",
      "1914122.8904541903\n",
      "26647.772153336977\n",
      "25617744.282649674\n",
      "4196818.418357703\n",
      "1186230.104999018\n",
      "19555584.843433555\n",
      "1821102.8006055078\n",
      "26457.1413204696\n",
      "10399948.03785468\n",
      "18109306.79701742\n",
      "26443.371413567827\n",
      "26598.43613943137\n",
      "26460.181459853073\n",
      "26500.87456117325\n",
      "26349.26709612345\n",
      "200293.94359612354\n",
      "26413.52472132931\n",
      "26445.59545241061\n",
      "4001290.903628938\n",
      "26408.092434885246\n",
      "26228.212563795645\n",
      "4194747.051848604\n",
      "662396.7436000432\n",
      "672546.1294100449\n"
     ]
    }
   ],
   "source": [
    "# Reading in original data into new df\n",
    "data = pd.read_csv('AmesHousing.tsv', delimiter='\\t')\n",
    "# Transforming features\n",
    "data_transformed = transform_features(data)\n",
    "# Selecting features\n",
    "data_final = select_features(data_transformed)\n",
    "\n",
    "# testing to optimize k-fold value\n",
    "k_range = list(range(2,100,1))\n",
    "rmses = {}\n",
    "for i in k_range:\n",
    "    rmse = train_and_test(data_final, k=i)\n",
    "    rmses[i] = rmse"
   ]
  },
  {
   "cell_type": "code",
   "execution_count": 52,
   "metadata": {},
   "outputs": [
    {
     "name": "stdout",
     "output_type": "stream",
     "text": [
      "Model with minimum rmse is: k = [96], rmse = 26228.212563795645\n"
     ]
    }
   ],
   "source": [
    "# Using min() + list comprehension + values() \n",
    "# Finding min value keys in dictionary \n",
    "temp = min(rmses.values()) \n",
    "res = [key for key in rmses if rmses[key] == temp] \n",
    "  \n",
    "# printing result  \n",
    "print(\"Model with minimum rmse is: \" + \"k = \" + str(res) + \", rmse = \" + str(temp))"
   ]
  },
  {
   "cell_type": "markdown",
   "metadata": {},
   "source": [
    "# Final Results\n",
    "\n",
    "In the end, the best model was achieved using K-Fold testing with 96 folds and a RMSE of $26,228."
   ]
  }
 ],
 "metadata": {
  "kernelspec": {
   "display_name": "Python 3",
   "language": "python",
   "name": "python3"
  },
  "language_info": {
   "codemirror_mode": {
    "name": "ipython",
    "version": 3
   },
   "file_extension": ".py",
   "mimetype": "text/x-python",
   "name": "python",
   "nbconvert_exporter": "python",
   "pygments_lexer": "ipython3",
   "version": "3.7.3"
  }
 },
 "nbformat": 4,
 "nbformat_minor": 2
}
